{
  "nbformat": 4,
  "nbformat_minor": 0,
  "metadata": {
    "colab": {
      "name": "Coursera_Capstone_Final_Project.ipynb",
      "provenance": [],
      "authorship_tag": "ABX9TyOwEt2JyG38GM+XYLCs8r2c",
      "include_colab_link": true
    },
    "kernelspec": {
      "name": "python3",
      "display_name": "Python 3"
    },
    "language_info": {
      "name": "python"
    }
  },
  "cells": [
    {
      "cell_type": "markdown",
      "metadata": {
        "id": "view-in-github",
        "colab_type": "text"
      },
      "source": [
        "<a href=\"https://colab.research.google.com/github/freezingMonkeys/Coursera_Capstone/blob/main/Coursera_Capstone_Final_Project.ipynb\" target=\"_parent\"><img src=\"https://colab.research.google.com/assets/colab-badge.svg\" alt=\"Open In Colab\"/></a>"
      ]
    },
    {
      "cell_type": "markdown",
      "metadata": {
        "id": "VEmjxP2NaGXY"
      },
      "source": [
        "<h1>Coursera Capstone Project: Battle of the Neighbourhoods</h1>\n",
        "\n",
        "<h3>BY: Dakota Chang </h3>\n",
        "\n",
        "\n",
        "\n",
        "---\n",
        "\n"
      ]
    },
    {
      "cell_type": "markdown",
      "metadata": {
        "id": "RVkgTsnIfbYl"
      },
      "source": [
        "<h1>1. Introduction </h1>\n",
        "Discussion of the business problem and the audience who would be interested in this project.\n"
      ]
    },
    {
      "cell_type": "markdown",
      "metadata": {
        "id": "xzV_dAp6ff31"
      },
      "source": [
        "**Description of the Problem and Background**\n",
        "\n",
        "*Scenario/Target Audience:*\n",
        "\n",
        "My friend will be moving to Vancouver soon, but she is not quite familiar with the city. She is a lover of food and would like to learn about the neighbourhoods with the most diverse set of restaurants. Since Vancouver has a diverse population and is a popular choice for a lot of immigrants, this project will be helpful to a lot of other people who also love trying different foods and are moving to Vancouver.\n",
        "\n",
        "*Business Problem:*\n",
        "\n",
        "The challenge is to find locations with the most diverse set of international cuisine in close proximity to it and label it so it can be easily comprehended.\n",
        "\n",
        "\n",
        "\n",
        "---\n",
        "\n"
      ]
    },
    {
      "cell_type": "markdown",
      "metadata": {
        "id": "e1nEb80rjX5O"
      },
      "source": [
        "<h1>2. Data</h1>\n",
        "Description of the data and its sources that will be used to solve the problem\n",
        "\n"
      ]
    },
    {
      "cell_type": "markdown",
      "metadata": {
        "id": "vSEndNSGjhsF"
      },
      "source": [
        "**Description of the Data**\n",
        "\n",
        "*Sources:*\n",
        "\n",
        "\n",
        "*   [Postal Codes and Long Lat of Locations in BC](https://www.geonames.org/postal-codes/CA/BC/british-columbia.html): This website will be scraped and engineered into a dataframe of places in Vancouver.\n",
        "*   [Foursquare](https://http://foursquare.com/): Foursqaure will be scraped for the nearby venues of each location.\n",
        "\n",
        "\n",
        "\n",
        "*Steps of Data Cleaning and Engineering:*\n",
        "\n",
        "\n",
        "1.   Scrape data from geonames.org in order to create a dataframe with postal codes, longitude and latitude of locations in BC province, Canada\n",
        "2.   Engineer the data such that the dataframe would consist of only locations within Vancouver\n",
        "3.   Match up the longitudes and latitudes of the collected data and use the Foursquare API to find the nearest venues of all locations\n",
        "4.   Remove unrelated venues from the dataframe (i.e. keep only restaurants/international cuisines)\n",
        "5.   Apply one-hot encoding to the dataframe so it can be easily processed\n",
        "\n",
        "\n",
        "\n",
        "---\n",
        "\n"
      ]
    }
  ]
}